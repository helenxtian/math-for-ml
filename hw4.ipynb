{
 "cells": [
  {
   "cell_type": "markdown",
   "id": "1d63ff5d",
   "metadata": {},
   "source": [
    "### Problem 1"
   ]
  },
  {
   "cell_type": "code",
   "execution_count": 17,
   "id": "46faee54",
   "metadata": {},
   "outputs": [],
   "source": [
    "# Ensure numpy is installed\n",
    "import numpy as np\n",
    "\n",
    "def gram_schmidt(X):\n",
    "    # X is an n - by - p matrix .\n",
    "    # Returns U an orthonormal matrix .\n",
    "    # eps is a threshold value to identify if a vector\n",
    "    # is nearly a zero vector .\n",
    "    eps = 1e-12\n",
    "    n, p = X.shape\n",
    "    U = np.zeros((n, 0))\n",
    "    \n",
    "    for j in range (p):\n",
    "        # Get the j-th column of matrix X\n",
    "        v = X[:, j]\n",
    "        \n",
    "        # Write your own code here : Perform the\n",
    "        # orthogonalization by subtracting the projections on\n",
    "        # all columns of U . And then check whether the vector\n",
    "        # you get is nearly a zero vector .\n",
    "        v = v - U@U.T@v\n",
    "        v = np.reshape (v, (-1, 1))\n",
    "        if np.linalg.norm(v) > eps :\n",
    "            U = np.hstack ((U, v / np.linalg.norm(v)))\n",
    "\n",
    "    return U"
   ]
  },
  {
   "cell_type": "code",
   "execution_count": 18,
   "id": "301fd2ce",
   "metadata": {},
   "outputs": [
    {
     "name": "stdout",
     "output_type": "stream",
     "text": [
      "[[1.         0.5        0.33333333 0.25       0.2        0.16666667\n",
      "  0.14285714]\n",
      " [0.5        0.33333333 0.25       0.2        0.16666667 0.14285714\n",
      "  0.125     ]\n",
      " [0.33333333 0.25       0.2        0.16666667 0.14285714 0.125\n",
      "  0.11111111]\n",
      " [0.25       0.2        0.16666667 0.14285714 0.125      0.11111111\n",
      "  0.1       ]\n",
      " [0.2        0.16666667 0.14285714 0.125      0.11111111 0.1\n",
      "  0.09090909]\n",
      " [0.16666667 0.14285714 0.125      0.11111111 0.1        0.09090909\n",
      "  0.08333333]\n",
      " [0.14285714 0.125      0.11111111 0.1        0.09090909 0.08333333\n",
      "  0.07692308]]\n"
     ]
    }
   ],
   "source": [
    "def hilbert_matrix(n):\n",
    "    X = np.array([[1.0 / (i + j - 1) for i in range(1, n + 1)] for j in range(1, n + 1)])\n",
    "    return X\n",
    "\n",
    "print(hilbert_matrix(7))"
   ]
  },
  {
   "cell_type": "code",
   "execution_count": 19,
   "id": "435a3191",
   "metadata": {},
   "outputs": [
    {
     "name": "stdout",
     "output_type": "stream",
     "text": [
      "0.2064604018404153\n"
     ]
    }
   ],
   "source": [
    "n = 7\n",
    "X = hilbert_matrix(n)\n",
    "Q_cgs = gram_schmidt(X)\n",
    "err = np.linalg.norm(np.eye(n) - Q_cgs.T @ Q_cgs, ord=1)\n",
    "\n",
    "print(err)"
   ]
  },
  {
   "cell_type": "code",
   "execution_count": 20,
   "id": "7603ab4f",
   "metadata": {},
   "outputs": [],
   "source": [
    "def modified_gram_schmidt(X):\n",
    "    # Define a threshold value to identify if a vector\n",
    "    # is nearly a zero vector .\n",
    "    eps = 1e-12\n",
    "\n",
    "    n, p = X.shape\n",
    "    U = np.zeros((n, 0))\n",
    "\n",
    "    for j in range(p):\n",
    "        # Get the j - th column of matrix X\n",
    "        v = X[:, j]\n",
    "        for i in range(j):\n",
    "            # Compute and subtract the projection of\n",
    "            # vector v onto the i - th column of U\n",
    "            v = v - np.dot(U[:, i], v) * U[:, i]\n",
    "        v = np.reshape(v, (-1, 1))\n",
    "        # Check whether the vector we get is nearly\n",
    "        # a zero vector\n",
    "        if np.linalg.norm(v) > eps:\n",
    "            # Normalize vector v and append it to U\n",
    "            U = np.hstack((U, v / np.linalg.norm(v)))\n",
    "    \n",
    "    return U"
   ]
  },
  {
   "cell_type": "code",
   "execution_count": 21,
   "id": "e1c48870",
   "metadata": {},
   "outputs": [
    {
     "name": "stdout",
     "output_type": "stream",
     "text": [
      "2.2951826592414173e-09\n"
     ]
    }
   ],
   "source": [
    "Q_mgs = modified_gram_schmidt(X)\n",
    "err = np.linalg.norm(np.eye(n) - Q_mgs.T @ Q_mgs, ord=1)\n",
    "\n",
    "print(err)"
   ]
  },
  {
   "cell_type": "markdown",
   "id": "1d44171d",
   "metadata": {},
   "source": [
    "### Problem 6"
   ]
  },
  {
   "cell_type": "code",
   "execution_count": null,
   "id": "f315f87f",
   "metadata": {},
   "outputs": [],
   "source": [
    "import numpy as np\n",
    "import matplotlib.pyplot as plt\n",
    "import scipy.io as sio\n",
    "import sys\n",
    "\n",
    "d = sio.loadmat('face_emotion_data.mat')\n",
    "X = d['X']\n",
    "y = d['y']\n",
    "\n",
    "n, p = np.shape(X)\n",
    "\n",
    "# error rate for regularized least squares\n",
    "error_RLS = np.zeros((8, 7))\n",
    "# error rate for truncated SVD\n",
    "error_SVD = np.zeros((8, 7))\n",
    "\n",
    "# SVD parameters to test\n",
    "k_vals = np.arange(9) + 1\n",
    "param_error_SVD = np.zeros(len(k_vals))\n",
    "\n",
    "# RLS parameters to test\n",
    "lambda_vals = np.array([0, 0.5, 1, 2, 4, 8, 16])\n",
    "param_err_RLS = np.zeros(len(lambda_vals))"
   ]
  }
 ],
 "metadata": {
  "kernelspec": {
   "display_name": "Python 3",
   "language": "python",
   "name": "python3"
  },
  "language_info": {
   "codemirror_mode": {
    "name": "ipython",
    "version": 3
   },
   "file_extension": ".py",
   "mimetype": "text/x-python",
   "name": "python",
   "nbconvert_exporter": "python",
   "pygments_lexer": "ipython3",
   "version": "3.9.6"
  }
 },
 "nbformat": 4,
 "nbformat_minor": 5
}
